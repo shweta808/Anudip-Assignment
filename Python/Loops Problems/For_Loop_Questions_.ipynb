{
  "nbformat": 4,
  "nbformat_minor": 0,
  "metadata": {
    "colab": {
      "provenance": []
    },
    "kernelspec": {
      "name": "python3",
      "display_name": "Python 3"
    },
    "language_info": {
      "name": "python"
    }
  },
  "cells": [
    {
      "cell_type": "markdown",
      "source": [
        "1.Given a list [4, 8, 2, 10, 6], find the maximum number using a for loop.\n"
      ],
      "metadata": {
        "id": "IeHoJUUxUWKC"
      }
    },
    {
      "cell_type": "code",
      "source": [
        "numbers = [4, 8, 2, 10, 6]\n",
        "max_number = numbers[0]\n",
        "for num in numbers:\n",
        "    if num > max_number:\n",
        "        max_number = num\n",
        "print(\"The maximum number is:\", max_number)"
      ],
      "metadata": {
        "id": "FufQHPy8UYF2",
        "colab": {
          "base_uri": "https://localhost:8080/"
        },
        "outputId": "ecf76e7c-3140-4576-b4b4-354d2730a8a8"
      },
      "execution_count": 1,
      "outputs": [
        {
          "output_type": "stream",
          "name": "stdout",
          "text": [
            "The maximum number is: 10\n"
          ]
        }
      ]
    },
    {
      "cell_type": "markdown",
      "source": [
        "2.Take input from the user and find the factorial of the number using a for loop.\n"
      ],
      "metadata": {
        "id": "Scanw-1bUkoW"
      }
    },
    {
      "cell_type": "code",
      "source": [
        "number = int(input(\"Enter a number to find its factorial: \"))\n",
        "factorial = 1\n",
        "for i in range(1, number + 1):\n",
        "    factorial *= i\n",
        "print(\"The factorial of\", number, \"is:\", factorial)"
      ],
      "metadata": {
        "id": "48VRS1FjUnU2",
        "colab": {
          "base_uri": "https://localhost:8080/"
        },
        "outputId": "49f9ed4a-d45e-4d5c-92c8-6f22f21c0485"
      },
      "execution_count": 2,
      "outputs": [
        {
          "output_type": "stream",
          "name": "stdout",
          "text": [
            "Enter a number to find its factorial: 5\n",
            "The factorial of 5 is: 120\n"
          ]
        }
      ]
    },
    {
      "cell_type": "markdown",
      "source": [
        "3.Given a list ['apple', 'banana', 'cherry', 'date', 'fig'], print each element along with its index using a for loop.\n"
      ],
      "metadata": {
        "id": "sY8dC6YRUttZ"
      }
    },
    {
      "cell_type": "code",
      "source": [
        "fruits = ['apple', 'banana', 'cherry', 'date', 'fig']\n",
        "for index, fruit in enumerate(fruits):\n",
        "    print(\"Index:\", index, \"Fruit:\", fruit)"
      ],
      "metadata": {
        "id": "xS-Mk0u_UxSg",
        "colab": {
          "base_uri": "https://localhost:8080/"
        },
        "outputId": "ef05baee-79b1-4f45-c02b-386ea9336120"
      },
      "execution_count": 3,
      "outputs": [
        {
          "output_type": "stream",
          "name": "stdout",
          "text": [
            "Index: 0 Fruit: apple\n",
            "Index: 1 Fruit: banana\n",
            "Index: 2 Fruit: cherry\n",
            "Index: 3 Fruit: date\n",
            "Index: 4 Fruit: fig\n"
          ]
        }
      ]
    },
    {
      "cell_type": "markdown",
      "source": [
        "4.Take a string input from the user and count the number of uppercase letters using a for loop.(use char.isupper()😊)\n"
      ],
      "metadata": {
        "id": "1QqkXQB7U2-5"
      }
    },
    {
      "cell_type": "code",
      "source": [
        "input_string = input(\"Enter a string: \")\n",
        "uppercase_count = 0\n",
        "for char in input_string:\n",
        "    if char.isupper():\n",
        "        uppercase_count += 1\n",
        "print(\"Number of uppercase letters:\", uppercase_count)"
      ],
      "metadata": {
        "id": "GR5DXqKtU6Cn",
        "colab": {
          "base_uri": "https://localhost:8080/"
        },
        "outputId": "8178ca82-857f-4603-85aa-3df896951969"
      },
      "execution_count": 4,
      "outputs": [
        {
          "output_type": "stream",
          "name": "stdout",
          "text": [
            "Enter a string: PAYAL\n",
            "Number of uppercase letters: 5\n"
          ]
        }
      ]
    },
    {
      "cell_type": "markdown",
      "source": [
        "5.Given a list of integers [17, 25, 39, 42, 58, 71, 86, 93], find the sum of all the even numbers using a for loop.\n"
      ],
      "metadata": {
        "id": "8MlMmRfaVArb"
      }
    },
    {
      "cell_type": "code",
      "source": [
        "integers = [17, 25, 39, 42, 58, 71, 86, 93]\n",
        "even_sum = 0\n",
        "for num in integers:\n",
        "    if num % 2 == 0:\n",
        "        even_sum += num\n",
        "print(\"The sum of all even numbers is:\", even_sum)"
      ],
      "metadata": {
        "id": "wi7NFd-HVFIJ",
        "colab": {
          "base_uri": "https://localhost:8080/"
        },
        "outputId": "4bcc3b8c-09a9-4fd1-87b8-e8ad344c4c28"
      },
      "execution_count": 5,
      "outputs": [
        {
          "output_type": "stream",
          "name": "stdout",
          "text": [
            "The sum of all even numbers is: 186\n"
          ]
        }
      ]
    },
    {
      "cell_type": "markdown",
      "source": [
        "6.Given a list [3, 6, 9, 12, 15], calculate the product of all the elements using a for loop.\n"
      ],
      "metadata": {
        "id": "aVZkB2yPVIvt"
      }
    },
    {
      "cell_type": "code",
      "source": [
        "numbers = [3, 6, 9, 12, 15]\n",
        "product = 1\n",
        "for num in numbers:\n",
        "    product *= num\n",
        "print(\"The product of all elements is:\", product)"
      ],
      "metadata": {
        "id": "L_GHd4bFVNPi",
        "colab": {
          "base_uri": "https://localhost:8080/"
        },
        "outputId": "088e6e7d-5014-4513-eb3c-222989b06ba2"
      },
      "execution_count": 6,
      "outputs": [
        {
          "output_type": "stream",
          "name": "stdout",
          "text": [
            "The product of all elements is: 29160\n"
          ]
        }
      ]
    },
    {
      "cell_type": "markdown",
      "source": [
        "7.Given a list [2, 3, 5, 7, 11, 13, 17, 19], find the index of the first occurrence of the number 7 using a for loop."
      ],
      "metadata": {
        "id": "sMKhEtSfVRMC"
      }
    },
    {
      "cell_type": "code",
      "source": [
        "numbers = [2, 3, 5, 7, 11, 13, 17, 19]\n",
        "index_of_seven = -1\n",
        "for index, num in enumerate(numbers):\n",
        "    if num == 7:\n",
        "        index_of_seven = index\n",
        "        break\n",
        "if index_of_seven != -1:\n",
        "    print(\"The index of the first occurrence of 7 is:\", index_of_seven)\n",
        "else:\n",
        "    print(\"7 is not in the list.\")"
      ],
      "metadata": {
        "id": "MtfsJN03VVlp",
        "colab": {
          "base_uri": "https://localhost:8080/"
        },
        "outputId": "0113ce6c-0537-4f16-dede-8b0c20367250"
      },
      "execution_count": 7,
      "outputs": [
        {
          "output_type": "stream",
          "name": "stdout",
          "text": [
            "The index of the first occurrence of 7 is: 3\n"
          ]
        }
      ]
    }
  ]
}