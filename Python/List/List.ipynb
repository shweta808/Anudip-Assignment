{
  "nbformat": 4,
  "nbformat_minor": 0,
  "metadata": {
    "colab": {
      "provenance": []
    },
    "kernelspec": {
      "name": "python3",
      "display_name": "Python 3"
    },
    "language_info": {
      "name": "python"
    }
  },
  "cells": [
    {
      "cell_type": "markdown",
      "source": [
        "###1.Write a Python program to sum all the elements in a list."
      ],
      "metadata": {
        "id": "UKr1Pgt2o2rx"
      }
    },
    {
      "cell_type": "code",
      "source": [
        "def sum_of_elements(my_list):\n",
        "    return sum(my_list)\n",
        "numbers = [10, 20, 30, 40, 50]\n",
        "result = sum_of_elements(numbers)\n",
        "print(\"The sum of all elements in the list is:\", result)\n"
      ],
      "metadata": {
        "colab": {
          "base_uri": "https://localhost:8080/"
        },
        "id": "FZ5ldjOqp4hr",
        "outputId": "4d321cc0-7625-4ec2-ca75-c8480817686f"
      },
      "execution_count": null,
      "outputs": [
        {
          "output_type": "stream",
          "name": "stdout",
          "text": [
            "The sum of all elements in the list is: 150\n"
          ]
        }
      ]
    },
    {
      "cell_type": "markdown",
      "source": [
        "###2.Write a Python program to find the largest element in a list."
      ],
      "metadata": {
        "id": "9zfQNMDfp94m"
      }
    },
    {
      "cell_type": "code",
      "source": [
        "new_list=[6,9,1.1,3.3,5,1,9,10.6,0,5]\n",
        "max(new_list)"
      ],
      "metadata": {
        "colab": {
          "base_uri": "https://localhost:8080/"
        },
        "id": "moZkKqBJqHzs",
        "outputId": "d9db999a-19e7-4a37-95df-21faefc8baec"
      },
      "execution_count": null,
      "outputs": [
        {
          "output_type": "execute_result",
          "data": {
            "text/plain": [
              "10.6"
            ]
          },
          "metadata": {},
          "execution_count": 11
        }
      ]
    },
    {
      "cell_type": "markdown",
      "source": [
        "###3. Write a Python program to count the number of elements in a list."
      ],
      "metadata": {
        "id": "qTpFAZ96rNcC"
      }
    },
    {
      "cell_type": "code",
      "source": [
        "new_list=[6,9,1.1,3.3,5,1,9,10.6,0,5]\n",
        "new_list.count(9)"
      ],
      "metadata": {
        "colab": {
          "base_uri": "https://localhost:8080/"
        },
        "id": "3X0aoqYlrZlv",
        "outputId": "d7209c84-dfd0-428f-cece-dea4eec10c02"
      },
      "execution_count": null,
      "outputs": [
        {
          "output_type": "execute_result",
          "data": {
            "text/plain": [
              "2"
            ]
          },
          "metadata": {},
          "execution_count": 15
        }
      ]
    },
    {
      "cell_type": "markdown",
      "source": [
        "###4.Write a Python program to find the average of elements in a list."
      ],
      "metadata": {
        "id": "IwIXKsmRrsJe"
      }
    },
    {
      "cell_type": "code",
      "source": [
        "def average_of_elements(my_list):\n",
        "    if len(my_list) == 0:\n",
        "        return 0\n",
        "    return sum(my_list) / len(my_list)\n",
        "numbers = [10, 20, 30, 40, 50]\n",
        "result = average_of_elements(numbers)\n",
        "print(\"The average of elements in the list is:\", result)\n"
      ],
      "metadata": {
        "colab": {
          "base_uri": "https://localhost:8080/"
        },
        "id": "I3gFoOsOsYIp",
        "outputId": "d51bb8bf-8694-40f9-c90e-41c28fa4e971"
      },
      "execution_count": null,
      "outputs": [
        {
          "output_type": "stream",
          "name": "stdout",
          "text": [
            "The average of elements in the list is: 30.0\n"
          ]
        }
      ]
    },
    {
      "cell_type": "markdown",
      "source": [
        "###5. Write a Python program to reverse a list."
      ],
      "metadata": {
        "id": "XmwsCgVFsiFO"
      }
    },
    {
      "cell_type": "code",
      "source": [
        "new_list=[6,9,1.1,3.3,5,1,9,10.6,0,5]\n",
        "sorted(new_list,reverse=True)\n",
        "#new_list[ : :-1]"
      ],
      "metadata": {
        "colab": {
          "base_uri": "https://localhost:8080/"
        },
        "id": "AvW9A8IzssXp",
        "outputId": "87272dbf-81cd-4920-a4a7-dc8ccd035b2e"
      },
      "execution_count": null,
      "outputs": [
        {
          "output_type": "execute_result",
          "data": {
            "text/plain": [
              "[10.6, 9, 9, 6, 5, 5, 3.3, 1.1, 1, 0]"
            ]
          },
          "metadata": {},
          "execution_count": 1
        }
      ]
    },
    {
      "cell_type": "markdown",
      "source": [
        "###6.Write a Python program to check if a given element exists in a list."
      ],
      "metadata": {
        "id": "O8Qbg2Rrty19"
      }
    },
    {
      "cell_type": "code",
      "source": [
        "\n",
        "def check_element_in_list(my_list, element):\n",
        "\n",
        " my_list = [1, 2, 3, 4, 5]\n",
        "element = 3\n",
        "print(f\"{element} exists in the list.\")\n",
        "\n"
      ],
      "metadata": {
        "id": "qUqumWNJuDn5",
        "colab": {
          "base_uri": "https://localhost:8080/"
        },
        "outputId": "6ef71980-c912-45ae-e997-8ad0badd80a4"
      },
      "execution_count": null,
      "outputs": [
        {
          "output_type": "stream",
          "name": "stdout",
          "text": [
            "3 exists in the list.\n"
          ]
        }
      ]
    },
    {
      "cell_type": "markdown",
      "source": [
        "###7.Write a Python program to remove duplicate elements from a list."
      ],
      "metadata": {
        "id": "ocKnY2YOdpRd"
      }
    },
    {
      "cell_type": "code",
      "source": [
        "\n",
        "def remove_duplicates(my_list):\n",
        "    return list(set(my_list))\n",
        "my_list = [1, 2, 3, 2, 4, 5, 1, 6, 4]\n",
        "unique_list = remove_duplicates(my_list)\n",
        "\n",
        "print(\"Original list:\", my_list)\n",
        "print(\"List after removing duplicates:\", unique_list)\n"
      ],
      "metadata": {
        "colab": {
          "base_uri": "https://localhost:8080/"
        },
        "id": "VZf9FS1LdsH5",
        "outputId": "30c16c8a-7b06-49ff-a364-57fd0349e356"
      },
      "execution_count": null,
      "outputs": [
        {
          "output_type": "stream",
          "name": "stdout",
          "text": [
            "Original list: [1, 2, 3, 2, 4, 5, 1, 6, 4]\n",
            "List after removing duplicates: [1, 2, 3, 4, 5, 6]\n"
          ]
        }
      ]
    },
    {
      "cell_type": "markdown",
      "source": [
        "###8.Write a Python program to find the second largest element in a list."
      ],
      "metadata": {
        "id": "YgJTtiHNeZFJ"
      }
    },
    {
      "cell_type": "code",
      "source": [
        "\n",
        "def find_second_largest(my_list):\n",
        "   # unique_list = list(set(my_list))\n",
        "   # unique_list.sort()\n",
        "   # if len(unique_list) < 2:\n",
        "       # return None\n",
        "   # return unique_list[-2]\n",
        "                  my_list = [10, 20, 4, 45, 99, 45]\n",
        "\n",
        "second_largest = find_second_largest(my_list)\n",
        "\n",
        "#if second_largest is not None:\n",
        "print(\"The second largest element is:\", second_largest)\n",
        "#else:\n",
        "   # print(\"The list does not have enough unique elements.\")\n"
      ],
      "metadata": {
        "colab": {
          "base_uri": "https://localhost:8080/"
        },
        "id": "u5ih5R8Sebk6",
        "outputId": "d383e2f3-05c4-4bcd-df8b-6541a653b791"
      },
      "execution_count": null,
      "outputs": [
        {
          "output_type": "stream",
          "name": "stdout",
          "text": [
            "The second largest element is: None\n"
          ]
        }
      ]
    },
    {
      "cell_type": "markdown",
      "source": [
        "###9. Write a Python program to sort elements in a list in ascending order."
      ],
      "metadata": {
        "id": "Yrg2AvbrfVAs"
      }
    },
    {
      "cell_type": "code",
      "source": [
        "def sort_list_ascending(my_list):\n",
        "     return sorted(my_list)\n",
        "my_list = [5, 3, 8, 6, 7, 2]\n",
        "\n",
        "sorted_list = sort_list_ascending(my_list)\n",
        "\n",
        "print(\"Original list:\", my_list)\n",
        "print(\"Sorted list in ascending order:\", sorted_list)\n"
      ],
      "metadata": {
        "colab": {
          "base_uri": "https://localhost:8080/"
        },
        "id": "t-hGv3H1fX1S",
        "outputId": "e5afe862-f6ad-408f-bff8-48ae671b37aa"
      },
      "execution_count": null,
      "outputs": [
        {
          "output_type": "stream",
          "name": "stdout",
          "text": [
            "Original list: [5, 3, 8, 6, 7, 2]\n",
            "Sorted list in ascending order: [2, 3, 5, 6, 7, 8]\n"
          ]
        }
      ]
    },
    {
      "cell_type": "markdown",
      "source": [
        "### 10.Write a Python program to merge two lists and sort them."
      ],
      "metadata": {
        "id": "Cp9LKQQcgAuQ"
      }
    },
    {
      "cell_type": "code",
      "source": [
        "def merge_and_sort(list1, list2):\n",
        "    merged_list = list1 + list2\n",
        "    return sorted(merged_list)\n",
        "list1 = [3, 1, 4]\n",
        "list2 = [9, 2, 6, 5]\n",
        "\n",
        "merged_sorted_list = merge_and_sort(list1, list2)\n",
        "\n",
        "print(\"List 1:\", list1)\n",
        "print(\"List 2:\", list2)\n",
        "print(\"Merged and sorted list:\", merged_sorted_list)\n"
      ],
      "metadata": {
        "colab": {
          "base_uri": "https://localhost:8080/"
        },
        "id": "Ti0oYqhKgQCD",
        "outputId": "159bfff5-342f-4e8c-dfc8-1117e0009138"
      },
      "execution_count": null,
      "outputs": [
        {
          "output_type": "stream",
          "name": "stdout",
          "text": [
            "List 1: [3, 1, 4]\n",
            "List 2: [9, 2, 6, 5]\n",
            "Merged and sorted list: [1, 2, 3, 4, 5, 6, 9]\n"
          ]
        }
      ]
    },
    {
      "cell_type": "markdown",
      "source": [
        "###11.Given a nested list nested_list_row = [[1, 2, 3], [4, 5, 6], [7, 8, 9]], how can you access the number 9 from the list? Write a Python program to achieve this."
      ],
      "metadata": {
        "id": "NbQL6tushND0"
      }
    },
    {
      "cell_type": "code",
      "source": [
        "\n",
        "nested_list_row = [[1, 2, 3], [4, 5, 6], [7, 8, 9]]\n",
        "number_nine = nested_list_row[2][2]\n",
        "\n",
        "print(\"The number is:\", number_nine)\n"
      ],
      "metadata": {
        "colab": {
          "base_uri": "https://localhost:8080/"
        },
        "id": "WDD9Jea2hNvk",
        "outputId": "4cabbacc-e62c-404e-d68a-469b79c09b4d"
      },
      "execution_count": null,
      "outputs": [
        {
          "output_type": "stream",
          "name": "stdout",
          "text": [
            "The number is: 9\n"
          ]
        }
      ]
    },
    {
      "cell_type": "markdown",
      "source": [
        "###12.Suppose you have a nested list nested_list_column = [[1, 2, 3], [4, 5, 6], [7, 8, 9]], how can you access the number 8 from the list? Write a Python program to achieve this."
      ],
      "metadata": {
        "id": "ilCQaHCNhggQ"
      }
    },
    {
      "cell_type": "code",
      "source": [
        "nested_list_row = [[1, 2, 3], [4, 5, 6], [7, 8, 9]]\n",
        "number_eight = nested_list_row[2][1]\n",
        "\n",
        "print(\"The number is:\", number_eight)\n"
      ],
      "metadata": {
        "colab": {
          "base_uri": "https://localhost:8080/"
        },
        "id": "hqAfzs1jhi5z",
        "outputId": "0392c3f7-3cdb-4714-83b4-f40bc0bcae75"
      },
      "execution_count": null,
      "outputs": [
        {
          "output_type": "stream",
          "name": "stdout",
          "text": [
            "The number is: 8\n"
          ]
        }
      ]
    },
    {
      "cell_type": "markdown",
      "source": [
        "13.How can you access the number 100 from the nested list nested_list_column = [[1, 2, 3], [4, 5, 6], [7, 8, 9,[1,55,77,100]]?"
      ],
      "metadata": {
        "id": "L5Wj0n2fjlnW"
      }
    },
    {
      "cell_type": "code",
      "source": [
        "\n",
        "nested_list_column = [[1, 2, 3], [4, 5, 6], [7, 8, 9, [1, 55, 77, 100]]]\n",
        "number_hundred = nested_list_column[2][3][3]\n",
        "print(\"The number is:\", number_hundred)\n"
      ],
      "metadata": {
        "colab": {
          "base_uri": "https://localhost:8080/"
        },
        "id": "Cz1rEvFIjqw_",
        "outputId": "d06af9ff-9783-4701-b8be-4cd74f927fb5"
      },
      "execution_count": null,
      "outputs": [
        {
          "output_type": "stream",
          "name": "stdout",
          "text": [
            "The number is: 100\n"
          ]
        }
      ]
    },
    {
      "cell_type": "markdown",
      "source": [
        "###14.How can you access the number 100 from the nested list nested_list_column = [[1, 2, 3], [4, 5, 6], [7, 8, 9, [1,55,77,100]] using negative indexing?"
      ],
      "metadata": {
        "id": "gKwGbS-RkCsd"
      }
    },
    {
      "cell_type": "code",
      "source": [
        "\n",
        "nested_list_column = [[1, 2, 3], [4, 5, 6], [7, 8, 9, [1, 55, 77, 100]]]\n",
        "\n",
        "number_hundred = nested_list_column[-1][-1][-1]\n",
        "\n",
        "print(\"The number is:\", number_hundred)\n"
      ],
      "metadata": {
        "colab": {
          "base_uri": "https://localhost:8080/"
        },
        "id": "W0ykJStekBCo",
        "outputId": "9ac71e70-6200-48ae-f965-9825a9dbaf59"
      },
      "execution_count": null,
      "outputs": [
        {
          "output_type": "stream",
          "name": "stdout",
          "text": [
            "The number is: 100\n"
          ]
        }
      ]
    }
  ]
}