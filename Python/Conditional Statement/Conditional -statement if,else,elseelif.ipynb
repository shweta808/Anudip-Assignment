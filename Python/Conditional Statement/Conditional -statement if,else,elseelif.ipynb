{
  "nbformat": 4,
  "nbformat_minor": 0,
  "metadata": {
    "colab": {
      "provenance": []
    },
    "kernelspec": {
      "name": "python3",
      "display_name": "Python 3"
    },
    "language_info": {
      "name": "python"
    }
  },
  "cells": [
    {
      "cell_type": "markdown",
      "source": [
        "Question 1:Write a Python program that checks if a given number is even. If it is, print \"Even number\""
      ],
      "metadata": {
        "id": "rMauDpFHZHAh"
      }
    },
    {
      "cell_type": "code",
      "source": [
        "  def check_even(number):\n",
        "    if number % 2 == 0:\n",
        "      print(\"Even number\")\n",
        "  check_even(4)"
      ],
      "metadata": {
        "colab": {
          "base_uri": "https://localhost:8080/"
        },
        "id": "M0XvjpYua5vH",
        "outputId": "3ac8c189-5c38-4eb4-c8a4-284eb069b368"
      },
      "execution_count": null,
      "outputs": [
        {
          "output_type": "stream",
          "name": "stdout",
          "text": [
            "Even number\n"
          ]
        }
      ]
    },
    {
      "cell_type": "markdown",
      "source": [
        "Question 2:Write a Python program that checks if a given string contains the letter 'a'. If it does, print \"String contains 'a'\"."
      ],
      "metadata": {
        "id": "RbuCVJ0lchoe"
      }
    },
    {
      "cell_type": "code",
      "source": [
        "def contains_a(string):\n",
        "  if 'a' in string:\n",
        "    print(\"String contains 'a'\")\n",
        "contains_a(\"apple\")"
      ],
      "metadata": {
        "colab": {
          "base_uri": "https://localhost:8080/"
        },
        "id": "05Hv1xzTclfj",
        "outputId": "6ba19cf0-4c1c-48bb-b43a-89f84f69621c"
      },
      "execution_count": null,
      "outputs": [
        {
          "output_type": "stream",
          "name": "stdout",
          "text": [
            "String contains 'a'\n"
          ]
        }
      ]
    },
    {
      "cell_type": "markdown",
      "source": [
        "Question 3: Write a Python program that checks if a given year is a leap year. If it is, print \"Leap year\"."
      ],
      "metadata": {
        "id": "hYLAOYYVcxh0"
      }
    },
    {
      "cell_type": "code",
      "source": [
        "def is_leap_year(year):\n",
        "    if (year % 4 == 0 and year % 100 != 0) or (year % 400 == 0):\n",
        "        return True\n",
        "year = int(input(\"Enter a year: \"))\n",
        "if is_leap_year(year):\n",
        "    print(\"Leap year\")\n",
        "\n"
      ],
      "metadata": {
        "id": "0iAIDjeyc_d_",
        "colab": {
          "base_uri": "https://localhost:8080/"
        },
        "outputId": "f2b09045-11dd-4208-d9f5-51ebf57f9316"
      },
      "execution_count": null,
      "outputs": [
        {
          "output_type": "stream",
          "name": "stdout",
          "text": [
            "Enter a year: 2004\n",
            "Leap year\n"
          ]
        }
      ]
    },
    {
      "cell_type": "markdown",
      "source": [
        "Question 4: Write a Python program that checks if a given number is positive. If it is, print \"Positive number\"."
      ],
      "metadata": {
        "id": "H1rLQ1KMdqp0"
      }
    },
    {
      "cell_type": "code",
      "source": [
        "number = float(input(\"Enter a number: \"))\n",
        "\n",
        "if number > 0:\n",
        "    print(\"Positive number\")\n"
      ],
      "metadata": {
        "id": "ufYxzOI_dpQQ",
        "colab": {
          "base_uri": "https://localhost:8080/"
        },
        "outputId": "e035d01a-7619-4174-968e-3a4525897e4c"
      },
      "execution_count": null,
      "outputs": [
        {
          "output_type": "stream",
          "name": "stdout",
          "text": [
            "Enter a number: 12\n",
            "Positive number\n"
          ]
        }
      ]
    },
    {
      "cell_type": "markdown",
      "source": [
        "Question 5: Write a Python program that checks if a given character is a vowel. If it is, print \"Vowel\"."
      ],
      "metadata": {
        "id": "13LCN7XCeCxy"
      }
    },
    {
      "cell_type": "code",
      "source": [
        "char = input(\"Enter a character: \").lower()\n",
        "\n",
        "if char == 'a' or char == 'e' or char == 'i' or char == 'o' or char == 'u':\n",
        "    print(\"Vowel\")\n"
      ],
      "metadata": {
        "id": "y_HGlcafeNXs",
        "colab": {
          "base_uri": "https://localhost:8080/"
        },
        "outputId": "70701928-7f12-43e6-9daf-fafae1056bda"
      },
      "execution_count": null,
      "outputs": [
        {
          "output_type": "stream",
          "name": "stdout",
          "text": [
            "Enter a character: a\n",
            "Vowel\n"
          ]
        }
      ]
    },
    {
      "cell_type": "markdown",
      "source": [
        "Question 6: Write a Python program that checks if a given number is greater than 100. If it is, print \"Greater than 100\"."
      ],
      "metadata": {
        "id": "8Fsatj5GfD5s"
      }
    },
    {
      "cell_type": "code",
      "source": [
        "number = float(input(\"Enter a number: \"))\n",
        "\n",
        "if number > 100:\n",
        "    print(\"Greater than 100\")\n"
      ],
      "metadata": {
        "id": "NUj5tpn8fJLc",
        "colab": {
          "base_uri": "https://localhost:8080/"
        },
        "outputId": "b6d32ec3-7ea9-4e59-c8f2-4ebffebdfeee"
      },
      "execution_count": null,
      "outputs": [
        {
          "output_type": "stream",
          "name": "stdout",
          "text": [
            "Enter a number: 105\n",
            "Greater than 100\n"
          ]
        }
      ]
    },
    {
      "cell_type": "markdown",
      "source": [
        "Question 7: Write a Python program that checks if a given string is empty. If it is, print \"Empty string\"."
      ],
      "metadata": {
        "id": "XB8GQtDifkbA"
      }
    },
    {
      "cell_type": "code",
      "source": [
        "string = input(\"Enter a string: \")\n",
        "\n",
        "if string == \"\":\n",
        "    print(\"Empty string\")\n"
      ],
      "metadata": {
        "id": "jWSc0RrJfu9s",
        "colab": {
          "base_uri": "https://localhost:8080/"
        },
        "outputId": "16a1005b-042f-41ee-ed3c-3acaf0b9c8f7"
      },
      "execution_count": null,
      "outputs": [
        {
          "output_type": "stream",
          "name": "stdout",
          "text": [
            "Enter a string: \n",
            "Empty string\n"
          ]
        }
      ]
    },
    {
      "cell_type": "markdown",
      "source": [
        "Question 8: Write a Python program that checks if a given number is divisible by both 5 and 7. If it is, print \"Divisible by 5 and 7\"."
      ],
      "metadata": {
        "id": "49RO0HJ2f2Ac"
      }
    },
    {
      "cell_type": "code",
      "source": [
        "number = int(input(\"Enter a number: \"))\n",
        "\n",
        "if number % 5 == 0 and number % 7 == 0:\n",
        "    print(\"Divisible by 5 and 7\")\n"
      ],
      "metadata": {
        "id": "J2iuR_oFf68w",
        "colab": {
          "base_uri": "https://localhost:8080/"
        },
        "outputId": "a4a65ebc-e1a6-40f3-e070-e87287df330f"
      },
      "execution_count": null,
      "outputs": [
        {
          "output_type": "stream",
          "name": "stdout",
          "text": [
            "Enter a number: 35\n",
            "Divisible by 5 and 7\n"
          ]
        }
      ]
    },
    {
      "cell_type": "markdown",
      "source": [
        "Question 9: Write a Python program that checks if a given list contains any negative numbers. If it does, print \"List contains negative numbers\"."
      ],
      "metadata": {
        "id": "3Opy4KrYgEAi"
      }
    },
    {
      "cell_type": "code",
      "source": [
        "numbers = list(map(int, input(\"Enter a list of numbers separated by spaces: \").split()))\n",
        "\n",
        "if any(num < 0 for num in numbers):\n",
        "    print(\"List contains negative numbers\")\n"
      ],
      "metadata": {
        "id": "tNUsa8SygHt5",
        "colab": {
          "base_uri": "https://localhost:8080/"
        },
        "outputId": "640c7e1b-acac-47f2-a26b-9365a1c730b1"
      },
      "execution_count": null,
      "outputs": [
        {
          "output_type": "stream",
          "name": "stdout",
          "text": [
            "Enter a list of numbers separated by spaces: -12\n",
            "List contains negative numbers\n"
          ]
        }
      ]
    },
    {
      "cell_type": "markdown",
      "source": [
        "Question 10: Write a Python program that checks if a given word is a palindrome. If it is, print \"Palindrome\"."
      ],
      "metadata": {
        "id": "pr5Qd0lOgPgR"
      }
    },
    {
      "cell_type": "code",
      "source": [
        "word = input(\"Enter a word: \").lower()\n",
        "\n",
        "if word == word[::-1]:\n",
        "    print(\"Palindrome\")\n"
      ],
      "metadata": {
        "id": "ACaH1okxgT_j",
        "colab": {
          "base_uri": "https://localhost:8080/"
        },
        "outputId": "9772d621-a256-496e-8052-0631cea1200f"
      },
      "execution_count": null,
      "outputs": [
        {
          "output_type": "stream",
          "name": "stdout",
          "text": [
            "Enter a word: nitin\n",
            "Palindrome\n"
          ]
        }
      ]
    },
    {
      "cell_type": "markdown",
      "source": [
        "#If else statement"
      ],
      "metadata": {
        "id": "AzqN6CfsgYlA"
      }
    },
    {
      "cell_type": "markdown",
      "source": [
        "Question 1: Write a Python program that checks if a given number is positive. If it is, print \"Positive number\"; otherwise, print \"Negative number\"."
      ],
      "metadata": {
        "id": "FXSJQV9zgbon"
      }
    },
    {
      "cell_type": "code",
      "source": [
        "def check_positive_or_negative(num):\n",
        "  if num > 0:\n",
        "    print(\"Positive number\")\n",
        "  else:\n",
        "    print(\"Negative number\")\n",
        "check_positive_or_negative(-5)"
      ],
      "metadata": {
        "colab": {
          "base_uri": "https://localhost:8080/"
        },
        "id": "_o-X9twxghVv",
        "outputId": "225d7717-677a-49df-c60b-9310d58d9e3f"
      },
      "execution_count": null,
      "outputs": [
        {
          "output_type": "stream",
          "name": "stdout",
          "text": [
            "Negative number\n"
          ]
        }
      ]
    },
    {
      "cell_type": "markdown",
      "source": [
        "Question 2: Write a Python program that checks if a given string is empty. If it is, print \"Empty string\"; otherwise, print \"Non-empty string\"."
      ],
      "metadata": {
        "id": "qD5ViWj1gnPB"
      }
    },
    {
      "cell_type": "code",
      "source": [
        "def check_empty_string(string):\n",
        "  if string == \"\":\n",
        "    print(\"Empty string\")\n",
        "  else:\n",
        "    print(\"Non-empty string\")\n",
        "check_empty_string(\"hello\")"
      ],
      "metadata": {
        "colab": {
          "base_uri": "https://localhost:8080/"
        },
        "id": "cBIQdwYYgqPZ",
        "outputId": "a980ee3a-4150-49ce-b94c-31803c5b6957"
      },
      "execution_count": null,
      "outputs": [
        {
          "output_type": "stream",
          "name": "stdout",
          "text": [
            "Non-empty string\n"
          ]
        }
      ]
    },
    {
      "cell_type": "markdown",
      "source": [
        "Question 3: Write a Python program that checks if a given number is even. If it is, print \"Even number\"; otherwise, print \"Odd number\"."
      ],
      "metadata": {
        "id": "9Qd3rik7gu54"
      }
    },
    {
      "cell_type": "code",
      "source": [
        "def check_even_or_odd(num):\n",
        "  if num % 2 == 0:\n",
        "    print(\"Even number\")\n",
        "  else:\n",
        "    print(\"Odd number\")\n",
        "check_even_or_odd(7)"
      ],
      "metadata": {
        "colab": {
          "base_uri": "https://localhost:8080/"
        },
        "id": "wTv_1n0wgxoV",
        "outputId": "47421d95-1257-4d15-af39-880e8f3e38da"
      },
      "execution_count": null,
      "outputs": [
        {
          "output_type": "stream",
          "name": "stdout",
          "text": [
            "Odd number\n"
          ]
        }
      ]
    },
    {
      "cell_type": "markdown",
      "source": [
        "Question 4: Write a Python program that checks if a given character is a vowel. If it is, print \"Vowel\"; otherwise, print \"Consonant\"."
      ],
      "metadata": {
        "id": "_gzJsdGKg1nc"
      }
    },
    {
      "cell_type": "code",
      "source": [
        "char = input(\"Enter a character: \").lower()\n",
        "\n",
        "if char in 'aeiou':\n",
        "    print(\"Vowel\")\n",
        "else:\n",
        "    print(\"Consonant\")\n"
      ],
      "metadata": {
        "id": "BWidGBqjg4bA",
        "colab": {
          "base_uri": "https://localhost:8080/"
        },
        "outputId": "4dfe355e-50be-4e37-98e6-2f129d86cba9"
      },
      "execution_count": null,
      "outputs": [
        {
          "output_type": "stream",
          "name": "stdout",
          "text": [
            "Enter a character: payal\n",
            "Consonant\n"
          ]
        }
      ]
    },
    {
      "cell_type": "markdown",
      "source": [
        "Question 5: Write a Python program that checks if a given year is a leap year. If it is, print \"Leap year\"; otherwise, print \"Not a leap year\"."
      ],
      "metadata": {
        "id": "PKNidKQchAMu"
      }
    },
    {
      "cell_type": "code",
      "source": [
        "def is_leap_year(year):\n",
        "    if (year % 4 == 0 and year % 100 != 0) or (year % 400 == 0):\n",
        "        return True\n",
        "    else:\n",
        "        return False\n",
        "\n",
        "year = int(input(\"Enter a year: \"))\n",
        "\n",
        "if is_leap_year(year):\n",
        "    print(\"Leap year\")\n",
        "else:\n",
        "    print(\"Not a leap year\")\n"
      ],
      "metadata": {
        "id": "nxgUlbwVhDZG",
        "colab": {
          "base_uri": "https://localhost:8080/"
        },
        "outputId": "17e191f1-2ec2-4cd2-ef5b-0ee7aed80d01"
      },
      "execution_count": null,
      "outputs": [
        {
          "output_type": "stream",
          "name": "stdout",
          "text": [
            "Enter a year: 2002\n",
            "Not a leap year\n"
          ]
        }
      ]
    },
    {
      "cell_type": "markdown",
      "source": [
        "Question 6: Write a Python program that checks if a given number is divisible by 3. If it is, print \"Divisible by 3\"; otherwise, print \"Not divisible by 3\"."
      ],
      "metadata": {
        "id": "e4DBUqhhhKGa"
      }
    },
    {
      "cell_type": "code",
      "source": [
        "number = int(input(\"Enter a number: \"))\n",
        "\n",
        "if number % 3 == 0:\n",
        "    print(\"Divisible by 3\")\n",
        "else:\n",
        "    print(\"Not divisible by 3\")\n"
      ],
      "metadata": {
        "id": "eXer7M1KhOzY",
        "colab": {
          "base_uri": "https://localhost:8080/"
        },
        "outputId": "d310626c-5295-4053-8a2a-4d2e9e78517f"
      },
      "execution_count": null,
      "outputs": [
        {
          "output_type": "stream",
          "name": "stdout",
          "text": [
            "Enter a number: 12\n",
            "Divisible by 3\n"
          ]
        }
      ]
    },
    {
      "cell_type": "markdown",
      "source": [
        "Question 7: Write a Python program that checks if a given string is a palindrome. If it is, print \"Palindrome\"; otherwise, print \"Not a palindrome\"."
      ],
      "metadata": {
        "id": "YU67wSTDhTHx"
      }
    },
    {
      "cell_type": "code",
      "source": [
        "word = input(\"Enter a word: \").lower()\n",
        "\n",
        "if word == word[::-1]:\n",
        "    print(\"Palindrome\")\n",
        "else:\n",
        "    print(\"Not a palindrome\")\n"
      ],
      "metadata": {
        "id": "RIFxcD9hhWXK",
        "colab": {
          "base_uri": "https://localhost:8080/"
        },
        "outputId": "69f458d7-6a99-4eef-e2c7-74aaa7948181"
      },
      "execution_count": null,
      "outputs": [
        {
          "output_type": "stream",
          "name": "stdout",
          "text": [
            "Enter a word: payal\n",
            "Not a palindrome\n"
          ]
        }
      ]
    },
    {
      "cell_type": "markdown",
      "source": [
        "Question 8: Write a Python program that checks if a given list is empty. If it is, print \"Empty list\"; otherwise, print \"Non-empty list\"."
      ],
      "metadata": {
        "id": "7avwj6z0hZ24"
      }
    },
    {
      "cell_type": "code",
      "source": [
        "\n",
        "my_list = []\n",
        "\n",
        "if not my_list:  # Checks if the list is empty\n",
        "    print(\"Empty list\")\n",
        "else:\n",
        "    print(\"Non-empty list\")\n"
      ],
      "metadata": {
        "id": "RlhQK4vHhdSz",
        "colab": {
          "base_uri": "https://localhost:8080/"
        },
        "outputId": "832e21f7-3a9e-4141-fc9e-d7715fb65688"
      },
      "execution_count": null,
      "outputs": [
        {
          "output_type": "stream",
          "name": "stdout",
          "text": [
            "Empty list\n"
          ]
        }
      ]
    },
    {
      "cell_type": "markdown",
      "source": [
        "Question 9: Write a Python program that checks if a given number is greater than, less than, or equal to 50. Print the corresponding message."
      ],
      "metadata": {
        "id": "-6e1j7qUhg0U"
      }
    },
    {
      "cell_type": "code",
      "source": [
        "def compare_to_50(num):\n",
        " if num>50:\n",
        "  print(\"Greater than 50\")\n",
        " else:\n",
        "  print(\"Less than or equal to 50\")"
      ],
      "metadata": {
        "id": "9la_ZhEChj-R"
      },
      "execution_count": null,
      "outputs": []
    },
    {
      "cell_type": "markdown",
      "source": [
        "Question 10: Write a Python program that checks if a given character is an uppercase letter. If it is, print \"Uppercase\"; otherwise, print \"Lowercase\"."
      ],
      "metadata": {
        "id": "uPnSsYsmiHlR"
      }
    },
    {
      "cell_type": "code",
      "source": [
        "def check_uppercase_or_lowercase(char):\n",
        "  if char.isupper():\n",
        "    print(\"Uppercase\")\n",
        "  else:\n",
        "    print(\"Lowercase\")"
      ],
      "metadata": {
        "id": "Rj9zOYqziLlp"
      },
      "execution_count": null,
      "outputs": []
    },
    {
      "cell_type": "markdown",
      "source": [
        "#if-elif-else"
      ],
      "metadata": {
        "id": "642vk2oMiUSd"
      }
    },
    {
      "cell_type": "markdown",
      "source": [
        "Question 1: Write a Python program that checks if a given number is positive, negative, or zero. Print the corresponding message."
      ],
      "metadata": {
        "id": "wEMnvGjPicqM"
      }
    },
    {
      "cell_type": "code",
      "source": [
        "def check_number(number):\n",
        "  if number > 0:\n",
        "    print(\"Positive number\")\n",
        "  elif number < 0:\n",
        "    print(\"Negative number\")\n",
        "  else:\n",
        "    print(\"Zero\")"
      ],
      "metadata": {
        "id": "Rry6H3H6WMbm"
      },
      "execution_count": null,
      "outputs": []
    },
    {
      "cell_type": "markdown",
      "source": [
        "Question 2: Write a Python program that compares two numbers and prints the larger number."
      ],
      "metadata": {
        "id": "OuuMwNK5il99"
      }
    },
    {
      "cell_type": "code",
      "source": [
        "def compare_two_numbers(num1, num2):\n",
        "  if num1 > num2:\n",
        "    print(\"The larger number is:\", num1)\n",
        "  elif num2 > num1:\n",
        "    print(\"The larger number is:\", num2)\n",
        "  else:\n",
        "    print(\"both numbers are equal\")"
      ],
      "metadata": {
        "id": "VptFkLfuipsk"
      },
      "execution_count": null,
      "outputs": []
    },
    {
      "cell_type": "markdown",
      "source": [
        "Question 3: Write a Python program that determines whether a given temperature is hot, warm, or cold. Print the corresponding message."
      ],
      "metadata": {
        "id": "Qa3sJE1VizEx"
      }
    },
    {
      "cell_type": "code",
      "source": [
        "def check_temperature(temperature):\n",
        "  if temperature > 30:\n",
        "    print(\"Hot\")\n",
        "  elif temperature > 20:\n",
        "    print(\"Warm\")\n",
        "  else:\n",
        "    print(\"Cold\")"
      ],
      "metadata": {
        "id": "WjKVF7DTi3g8"
      },
      "execution_count": null,
      "outputs": []
    },
    {
      "cell_type": "markdown",
      "source": [
        "Question 4: Write a Python program that checks if a given year is a leap year, a century year, or neither. Print the corresponding message."
      ],
      "metadata": {
        "id": "J2KDY6gci7vR"
      }
    },
    {
      "cell_type": "code",
      "source": [
        "def check_year(year):\n",
        "  if year % 400 ==0:\n",
        "    print(\"Leap year\")\n",
        "  elif year % 4 == 0:\n",
        "      print(\"Century year\")\n",
        "  else:\n",
        "      print(\"Neither\")"
      ],
      "metadata": {
        "id": "EXcIhbaljAB5"
      },
      "execution_count": null,
      "outputs": []
    },
    {
      "cell_type": "markdown",
      "source": [
        "Question 5: Write a Python program that categorizes a given character into uppercase letter, lowercase letter, digit, or special character. Print the corresponding message"
      ],
      "metadata": {
        "id": "srsA0N-njcJm"
      }
    },
    {
      "cell_type": "code",
      "source": [
        "def categorize_character(char):\n",
        "  if char.isupper():\n",
        "    print(\"Uppercase letter\")\n",
        "  elif char.islower():\n",
        "    print(\"Lowercase letter\")\n",
        "  elif char.isdigit():\n",
        "    print(\"Digit\")\n",
        "  else:\n",
        "    print(\"Special character\")"
      ],
      "metadata": {
        "id": "tSDSKueRjg-1"
      },
      "execution_count": null,
      "outputs": []
    },
    {
      "cell_type": "markdown",
      "source": [
        "Question 6: Write a Python program that calculates the discount percentage based on the purchase amount. Print the corresponding discount percentage."
      ],
      "metadata": {
        "id": "MThftfDXjlga"
      }
    },
    {
      "cell_type": "code",
      "source": [
        "def calculate_discount(purchase_amount):\n",
        "  if purchase_amount >= 100:\n",
        "    discount = 0.1\n",
        "  elif purchase_amount >= 50:\n",
        "    discount = 0.05\n",
        "  else:\n",
        "    discount = 0"
      ],
      "metadata": {
        "id": "ZH0w7xfZjoff"
      },
      "execution_count": null,
      "outputs": []
    },
    {
      "cell_type": "markdown",
      "source": [
        "Question 7: Write a Python program that checks if a given number is divisible by 2, 3, 5, or none of them. Print the corresponding message."
      ],
      "metadata": {
        "id": "h66U934AjwrK"
      }
    },
    {
      "cell_type": "code",
      "source": [
        "def check_divisibility(num):\n",
        "  if num % 2 == 0:\n",
        "    print(\"Divisible by 2\")\n",
        "  elif num %3==0:\n",
        "    print(\"Divisible by 3\")\n",
        "  elif num % 5 == 0:\n",
        "    print(\"Divisible by 5\")\n",
        "  else:\n",
        "    print(\"Not divisible by 2, 3, or 5\")"
      ],
      "metadata": {
        "id": "O_iXmPkRjxiQ"
      },
      "execution_count": null,
      "outputs": []
    },
    {
      "cell_type": "markdown",
      "source": [
        "Question 8: Write a Python program that determines the grade based on the percentage obtained. Print the corresponding grade."
      ],
      "metadata": {
        "id": "eHMgE-UwkKtI"
      }
    },
    {
      "cell_type": "code",
      "source": [
        "def determine_grade(percentage):\n",
        "  if percentage >= 90:\n",
        "    grade = \"A\"\n",
        "  elif percentage >= 80:\n",
        "    grade = \"B\"\n",
        "  elif percentage >=70:\n",
        "    grade = \"C\"\n",
        "  elif percentage >= 60:\n",
        "    grade = \"D\"\n",
        "  else:\n",
        "    grade = \"F\""
      ],
      "metadata": {
        "id": "uyg-3wKdkOfQ"
      },
      "execution_count": null,
      "outputs": []
    },
    {
      "cell_type": "markdown",
      "source": [
        "Question 9: Write a Python program that checks if a given number is within a specific range. Print the corresponding message."
      ],
      "metadata": {
        "id": "tEFkjaDCkqw_"
      }
    },
    {
      "cell_type": "code",
      "source": [
        "def check_range(num):\n",
        "  if 10 <= num <= 50:\n",
        "    print(\"Number is within the range\")\n",
        "  else:\n",
        "    print(\"Number is not within the range\")"
      ],
      "metadata": {
        "id": "UIE7XySNkyVc"
      },
      "execution_count": null,
      "outputs": []
    },
    {
      "cell_type": "markdown",
      "source": [
        "Question 10: Write a Python program that checks if a given string is an English word, a number, or a combination of both. Print the corresponding message."
      ],
      "metadata": {
        "id": "UpphAQNik6oY"
      }
    },
    {
      "cell_type": "code",
      "source": [
        "def check_string_type(string):\n",
        "  if string.isalpha():\n",
        "    print(\"English word\")\n",
        "  elif string.isdigit():\n",
        "    print(\"Number\")"
      ],
      "metadata": {
        "id": "NuGAWe6Ik-QD"
      },
      "execution_count": null,
      "outputs": []
    }
  ]
}