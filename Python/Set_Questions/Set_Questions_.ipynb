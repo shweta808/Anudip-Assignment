{
  "nbformat": 4,
  "nbformat_minor": 0,
  "metadata": {
    "colab": {
      "provenance": []
    },
    "kernelspec": {
      "name": "python3",
      "display_name": "Python 3"
    },
    "language_info": {
      "name": "python"
    }
  },
  "cells": [
    {
      "cell_type": "markdown",
      "source": [
        "Question 1: Given a set my_set = {10, 20, 30, 40, 50}, how can you access the element 30 from the set? Write a Python program to achieve this."
      ],
      "metadata": {
        "id": "cKRxCCtvUivB"
      }
    },
    {
      "cell_type": "code",
      "source": [
        "my_set = {10, 20, 30, 40, 50}\n",
        "my_set = list(my_set)\n",
        "print(my_set[-1])"
      ],
      "metadata": {
        "colab": {
          "base_uri": "https://localhost:8080/"
        },
        "id": "9GNzEtBIXkjr",
        "outputId": "5d849eb5-0566-420a-ddb0-5d10408e0c76"
      },
      "execution_count": null,
      "outputs": [
        {
          "output_type": "stream",
          "name": "stdout",
          "text": [
            "30\n"
          ]
        }
      ]
    },
    {
      "cell_type": "markdown",
      "source": [
        "Question 2: Suppose you have a set my_set = {15, 25, 35, 45, 55}, how can you perform slicing on a set? Write a Python program to demonstrate."
      ],
      "metadata": {
        "id": "67BFLZOmVd6A"
      }
    },
    {
      "cell_type": "code",
      "source": [
        "#We know that sets in python are the collection of the unordered collection of the elements ,so we can not perform slicing and indexing in a set"
      ],
      "metadata": {
        "id": "LfbZDDDteTxr"
      },
      "execution_count": null,
      "outputs": []
    },
    {
      "cell_type": "markdown",
      "source": [
        "Question 3: Given two sets set1 = {1, 2, 3} and set2 = {4, 5, 6}, how can you perform union operation on them? Write a Python program to achieve this."
      ],
      "metadata": {
        "id": "P2WRsylQVjEA"
      }
    },
    {
      "cell_type": "code",
      "source": [
        " set1 = {1, 2, 3}\n",
        " set2 = {4, 5, 6}\n",
        "set1.union(set2)\n",
        "\n"
      ],
      "metadata": {
        "colab": {
          "base_uri": "https://localhost:8080/"
        },
        "id": "edMIciA-VpAx",
        "outputId": "5df5d37a-e92b-4714-9faa-f4918bc60b83"
      },
      "execution_count": 30,
      "outputs": [
        {
          "output_type": "execute_result",
          "data": {
            "text/plain": [
              "{1, 2, 3, 4, 5, 6}"
            ]
          },
          "metadata": {},
          "execution_count": 30
        }
      ]
    },
    {
      "cell_type": "markdown",
      "source": [
        "Question 4: Suppose you have a set my_set = {1, 2, 3, {4, 5, 6}}, how can you access the nested set {4, 5, 6} from it? Write a Python program to achieve this.\n"
      ],
      "metadata": {
        "id": "yLIouW3VVz_h"
      }
    },
    {
      "cell_type": "code",
      "source": [
        "my_set = {1, 2, 3, {4, 5, 6}}\n",
        "#the set can not have nested set ."
      ],
      "metadata": {
        "id": "Ompb9phPd1vE"
      },
      "execution_count": null,
      "outputs": []
    },
    {
      "cell_type": "markdown",
      "source": [
        "Question 5: Given a set my_set = {1, 2, 3, 4, 5}, how can you convert it to a list? Write a Python program to achieve this."
      ],
      "metadata": {
        "id": "Olo-jDQSWKfg"
      }
    },
    {
      "cell_type": "code",
      "source": [
        "my_set = {1, 2, 3, 4, 5}\n",
        "my_set= list(my_set)\n",
        "print(my_set)\n"
      ],
      "metadata": {
        "colab": {
          "base_uri": "https://localhost:8080/"
        },
        "id": "W9WdfmA5WOA2",
        "outputId": "35c01bab-498a-41a8-9dae-0973a994a7bb"
      },
      "execution_count": null,
      "outputs": [
        {
          "output_type": "stream",
          "name": "stdout",
          "text": [
            "[1, 2, 3, 4, 5]\n"
          ]
        }
      ]
    }
  ]
}