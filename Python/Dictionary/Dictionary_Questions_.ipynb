{
  "nbformat": 4,
  "nbformat_minor": 0,
  "metadata": {
    "colab": {
      "provenance": []
    },
    "kernelspec": {
      "name": "python3",
      "display_name": "Python 3"
    },
    "language_info": {
      "name": "python"
    }
  },
  "cells": [
    {
      "cell_type": "markdown",
      "source": [
        "Question 6: Given a dictionary my_dict = {'a': 1, 'b': 2, 'c': 3}, how can you access the value associated with the key 'b'? Write a Python program to achieve this."
      ],
      "metadata": {
        "id": "qqryBjfNq_lh"
      }
    },
    {
      "cell_type": "code",
      "source": [
        "my_dict={'a':1,'b':2,'c':3}\n",
        "my_dict['b']"
      ],
      "metadata": {
        "colab": {
          "base_uri": "https://localhost:8080/"
        },
        "id": "oSFqXSDrrCaZ",
        "outputId": "4460e877-b453-49e9-dd7e-9536fa43481f"
      },
      "execution_count": 1,
      "outputs": [
        {
          "output_type": "execute_result",
          "data": {
            "text/plain": [
              "2"
            ]
          },
          "metadata": {},
          "execution_count": 1
        }
      ]
    },
    {
      "cell_type": "markdown",
      "source": [
        "Question 7: Suppose you have a dictionary my_dict = {'apple': 5, 'banana': 10, 'cherry': 15}, how can you perform indexing on a dictionary? Write a Python program to demonstrate."
      ],
      "metadata": {
        "id": "RWh03cOUrQ39"
      }
    },
    {
      "cell_type": "code",
      "source": [
        " my_dict = {'apple': 5, 'banana': 10, 'cherry': 15}\n",
        " my_dict['apple']"
      ],
      "metadata": {
        "colab": {
          "base_uri": "https://localhost:8080/"
        },
        "id": "Zz7gRe6KrYP6",
        "outputId": "7bb5346f-caa6-4bd4-bab5-8862ea6de666"
      },
      "execution_count": 2,
      "outputs": [
        {
          "output_type": "execute_result",
          "data": {
            "text/plain": [
              "5"
            ]
          },
          "metadata": {},
          "execution_count": 2
        }
      ]
    },
    {
      "cell_type": "markdown",
      "source": [
        "Question 8: Given two dictionaries dict1 = {'a': 1, 'b': 2} and dict2 = {'c': 3, 'd': 4}, how can you perform concatenation on them? Write a Python program to achieve this."
      ],
      "metadata": {
        "id": "2FiSPSHNrvH7"
      }
    },
    {
      "cell_type": "code",
      "source": [
        "dict1 = {'a': 1, 'b': 2}\n",
        "dict2 = {'c': 3, 'd': 4}\n",
        "dict1.update(dict2)\n",
        "print(dict1)\n"
      ],
      "metadata": {
        "colab": {
          "base_uri": "https://localhost:8080/"
        },
        "id": "Crqm-W4krzEJ",
        "outputId": "e5fea8f0-a907-4463-e482-5df52f181ab3"
      },
      "execution_count": 3,
      "outputs": [
        {
          "output_type": "stream",
          "name": "stdout",
          "text": [
            "{'a': 1, 'b': 2, 'c': 3, 'd': 4}\n"
          ]
        }
      ]
    },
    {
      "cell_type": "markdown",
      "source": [
        "Question 9: Suppose you have a dictionary my_dict = {'a': [1, 2, 3], 'b': [4, 5, 6]}, how can you access the list [4, 5, 6] from it? Write a Python program to achieve this.\n"
      ],
      "metadata": {
        "id": "uylbpym2sAmT"
      }
    },
    {
      "cell_type": "code",
      "source": [
        "my_dict = {'a': [1, 2, 3], 'b': [4, 5, 6]}\n",
        "my_dict['b']\n"
      ],
      "metadata": {
        "colab": {
          "base_uri": "https://localhost:8080/"
        },
        "id": "rgsTscP5sGda",
        "outputId": "9e37777a-44ad-406f-b05d-b8dbeb78e09f"
      },
      "execution_count": 4,
      "outputs": [
        {
          "output_type": "execute_result",
          "data": {
            "text/plain": [
              "[4, 5, 6]"
            ]
          },
          "metadata": {},
          "execution_count": 4
        }
      ]
    },
    {
      "cell_type": "markdown",
      "source": [
        "Question 10: Given a dictionary my_dict = {'apple': 5, 'banana': 10, 'cherry': 15}, how can you find the length of the dictionary? Write a Python program to achieve this."
      ],
      "metadata": {
        "id": "x5yIdGvFsL9E"
      }
    },
    {
      "cell_type": "code",
      "source": [
        " my_dict = {'apple': 5, 'banana': 10, 'cherry': 15}\n",
        " len(my_dict)"
      ],
      "metadata": {
        "colab": {
          "base_uri": "https://localhost:8080/"
        },
        "id": "M1cyiWMPsRYI",
        "outputId": "ae55fe61-bc81-4d0f-c952-48c0def9f1e7"
      },
      "execution_count": 5,
      "outputs": [
        {
          "output_type": "execute_result",
          "data": {
            "text/plain": [
              "3"
            ]
          },
          "metadata": {},
          "execution_count": 5
        }
      ]
    }
  ]
}